{
 "cells": [
  {
   "cell_type": "markdown",
   "id": "941c832e",
   "metadata": {},
   "source": [
    "### List should be in squared brackets[]"
   ]
  },
  {
   "cell_type": "code",
   "execution_count": 1,
   "id": "cc02c9b9",
   "metadata": {},
   "outputs": [
    {
     "data": {
      "text/plain": [
       "['Piyush', 'Sheela', 'Pooja', 'Arun']"
      ]
     },
     "execution_count": 1,
     "metadata": {},
     "output_type": "execute_result"
    }
   ],
   "source": [
    "list1=[1,2,3,\"R\",3.4,5.6,\"Python\"]\n",
    "list2=[\"Piyush\",\"Sheela\",\"Pooja\",\"Arun\"]\n",
    "list1\n",
    "list2"
   ]
  },
  {
   "cell_type": "markdown",
   "id": "098ba91a",
   "metadata": {},
   "source": [
    "#### if we add list1 or list2 or list3 or list100 it will only print the last one instead add print(list1) or print(list2)"
   ]
  },
  {
   "cell_type": "code",
   "execution_count": 3,
   "id": "e809ca9a",
   "metadata": {},
   "outputs": [
    {
     "name": "stdout",
     "output_type": "stream",
     "text": [
      "[1, 2, 3, 'R', 3.4, 5.6, 'Python']\n",
      "['Piyush', 'Sheela', 'Pooja', 'Arun']\n",
      "<class 'list'>\n",
      "<class 'list'>\n"
     ]
    }
   ],
   "source": [
    "list1=[1,2,3,\"R\",3.4,5.6,\"Python\"]\n",
    "list2=[\"Piyush\",\"Sheela\",\"Pooja\",\"Arun\"]\n",
    "print(list1)\n",
    "print(list2)\n",
    "print(type(list1))\n",
    "print(type(list2))"
   ]
  },
  {
   "cell_type": "markdown",
   "id": "a155b41b",
   "metadata": {},
   "source": [
    "### List means we can store multiple data types"
   ]
  },
  {
   "cell_type": "markdown",
   "id": "c0b0de6e",
   "metadata": {},
   "source": [
    "### Because list is accepting multiple data type it is known as HETEROGENOUS"
   ]
  },
  {
   "cell_type": "code",
   "execution_count": 4,
   "id": "1de45eb8",
   "metadata": {},
   "outputs": [
    {
     "data": {
      "text/plain": [
       "False"
      ]
     },
     "execution_count": 4,
     "metadata": {},
     "output_type": "execute_result"
    }
   ],
   "source": [
    "list1==list2"
   ]
  },
  {
   "cell_type": "code",
   "execution_count": 5,
   "id": "55942e9d",
   "metadata": {},
   "outputs": [
    {
     "data": {
      "text/plain": [
       "1"
      ]
     },
     "execution_count": 5,
     "metadata": {},
     "output_type": "execute_result"
    }
   ],
   "source": [
    "list1[0]"
   ]
  },
  {
   "cell_type": "code",
   "execution_count": 7,
   "id": "8946ae8f",
   "metadata": {},
   "outputs": [
    {
     "data": {
      "text/plain": [
       "'Python'"
      ]
     },
     "execution_count": 7,
     "metadata": {},
     "output_type": "execute_result"
    }
   ],
   "source": [
    "list1[-1]"
   ]
  },
  {
   "cell_type": "code",
   "execution_count": 8,
   "id": "e0f0deb2",
   "metadata": {},
   "outputs": [
    {
     "data": {
      "text/plain": [
       "'Arun'"
      ]
     },
     "execution_count": 8,
     "metadata": {},
     "output_type": "execute_result"
    }
   ],
   "source": [
    "list2[-1]"
   ]
  },
  {
   "cell_type": "code",
   "execution_count": 9,
   "id": "7cbf8842",
   "metadata": {},
   "outputs": [
    {
     "data": {
      "text/plain": [
       "[1, 2]"
      ]
     },
     "execution_count": 9,
     "metadata": {},
     "output_type": "execute_result"
    }
   ],
   "source": [
    "list1[0:2]"
   ]
  },
  {
   "cell_type": "code",
   "execution_count": 10,
   "id": "13178361",
   "metadata": {},
   "outputs": [
    {
     "data": {
      "text/plain": [
       "[2, 3, 'R', 3.4]"
      ]
     },
     "execution_count": 10,
     "metadata": {},
     "output_type": "execute_result"
    }
   ],
   "source": [
    "list1[1:5]"
   ]
  },
  {
   "cell_type": "code",
   "execution_count": 11,
   "id": "a512e21f",
   "metadata": {},
   "outputs": [
    {
     "data": {
      "text/plain": [
       "['Sheela', 'Pooja']"
      ]
     },
     "execution_count": 11,
     "metadata": {},
     "output_type": "execute_result"
    }
   ],
   "source": [
    "list2[1:3]"
   ]
  },
  {
   "cell_type": "markdown",
   "id": "d7cf74b0",
   "metadata": {},
   "source": [
    "### we can retrieve elements using index\n",
    "### square brackets\n"
   ]
  },
  {
   "cell_type": "code",
   "execution_count": 13,
   "id": "25a2fa31",
   "metadata": {},
   "outputs": [
    {
     "data": {
      "text/plain": [
       "['Piyush', 'Sheela', 'Pooja', 'Rishab']"
      ]
     },
     "execution_count": 13,
     "metadata": {},
     "output_type": "execute_result"
    }
   ],
   "source": [
    "list2[-1]=\"Rishab\"\n",
    "list2"
   ]
  },
  {
   "cell_type": "markdown",
   "id": "760bd9b9",
   "metadata": {},
   "source": [
    "### Replacing the elements is known as MUTABLE"
   ]
  },
  {
   "cell_type": "code",
   "execution_count": 14,
   "id": "275e7130",
   "metadata": {},
   "outputs": [
    {
     "data": {
      "text/plain": [
       "[1, 2, 3, 'R', 3.4, 5.6, 'Python']"
      ]
     },
     "execution_count": 14,
     "metadata": {},
     "output_type": "execute_result"
    }
   ],
   "source": [
    "list1[:]"
   ]
  },
  {
   "cell_type": "markdown",
   "id": "1ab663ea",
   "metadata": {},
   "source": [
    "### [:] it will print all the elements"
   ]
  },
  {
   "cell_type": "code",
   "execution_count": 15,
   "id": "ccfe2eb2",
   "metadata": {},
   "outputs": [
    {
     "data": {
      "text/plain": [
       "[1, 2, 3, 'R', 3.4, 5.6, 'Python']"
      ]
     },
     "execution_count": 15,
     "metadata": {},
     "output_type": "execute_result"
    }
   ],
   "source": [
    "list1"
   ]
  },
  {
   "cell_type": "markdown",
   "id": "7b2971d9",
   "metadata": {},
   "source": [
    "#### list1[1:6:2]--> 1->1th position, 6th->till 6th position, 2->skipping a value"
   ]
  },
  {
   "cell_type": "code",
   "execution_count": 16,
   "id": "91552d1d",
   "metadata": {},
   "outputs": [
    {
     "data": {
      "text/plain": [
       "[2, 'R', 5.6]"
      ]
     },
     "execution_count": 16,
     "metadata": {},
     "output_type": "execute_result"
    }
   ],
   "source": [
    "list1[1:6:2]"
   ]
  },
  {
   "cell_type": "code",
   "execution_count": 17,
   "id": "164d5cc8",
   "metadata": {},
   "outputs": [
    {
     "data": {
      "text/plain": [
       "[2, 3.4]"
      ]
     },
     "execution_count": 17,
     "metadata": {},
     "output_type": "execute_result"
    }
   ],
   "source": [
    "list1[1:6:3]"
   ]
  },
  {
   "cell_type": "code",
   "execution_count": 18,
   "id": "981ec30c",
   "metadata": {},
   "outputs": [
    {
     "data": {
      "text/plain": [
       "[1, 3, 3.4]"
      ]
     },
     "execution_count": 18,
     "metadata": {},
     "output_type": "execute_result"
    }
   ],
   "source": [
    "list1[0:5:2]"
   ]
  },
  {
   "cell_type": "code",
   "execution_count": 19,
   "id": "603bdf1d",
   "metadata": {},
   "outputs": [
    {
     "data": {
      "text/plain": [
       "[3.4, 5.6]"
      ]
     },
     "execution_count": 19,
     "metadata": {},
     "output_type": "execute_result"
    }
   ],
   "source": [
    "list1[-3:-1]"
   ]
  },
  {
   "cell_type": "code",
   "execution_count": 20,
   "id": "c815a1fc",
   "metadata": {},
   "outputs": [
    {
     "data": {
      "text/plain": [
       "[1, 2, 3, 'R', 3.4, 5.6, 'Python']"
      ]
     },
     "execution_count": 20,
     "metadata": {},
     "output_type": "execute_result"
    }
   ],
   "source": [
    "list1"
   ]
  },
  {
   "cell_type": "markdown",
   "id": "021cd710",
   "metadata": {},
   "source": [
    "##### Replacing the values"
   ]
  },
  {
   "cell_type": "code",
   "execution_count": 22,
   "id": "1f0f9ce0",
   "metadata": {},
   "outputs": [
    {
     "data": {
      "text/plain": [
       "[1, 23, 34, 'R', 3.4, 5.6, 'Python']"
      ]
     },
     "execution_count": 22,
     "metadata": {},
     "output_type": "execute_result"
    }
   ],
   "source": [
    "list1[1:3]=[23,34]\n",
    "list1"
   ]
  },
  {
   "cell_type": "code",
   "execution_count": 23,
   "id": "3514dc06",
   "metadata": {},
   "outputs": [
    {
     "data": {
      "text/plain": [
       "[1, 12, 15, 16, 26, 'R', 3.4, 5.6, 'Python']"
      ]
     },
     "execution_count": 23,
     "metadata": {},
     "output_type": "execute_result"
    }
   ],
   "source": [
    "list1[1:3]=[12,15,16,26]\n",
    "list1"
   ]
  },
  {
   "cell_type": "code",
   "execution_count": 24,
   "id": "0fc8e645",
   "metadata": {
    "scrolled": true
   },
   "outputs": [
    {
     "data": {
      "text/plain": [
       "[1,\n",
       " 12,\n",
       " 15,\n",
       " 16,\n",
       " 26,\n",
       " 'R',\n",
       " 3.4,\n",
       " 5.6,\n",
       " 'Python',\n",
       " 1,\n",
       " 12,\n",
       " 15,\n",
       " 16,\n",
       " 26,\n",
       " 'R',\n",
       " 3.4,\n",
       " 5.6,\n",
       " 'Python']"
      ]
     },
     "execution_count": 24,
     "metadata": {},
     "output_type": "execute_result"
    }
   ],
   "source": [
    "list3=list1*2 ### it will not multiply\n",
    "list3"
   ]
  },
  {
   "cell_type": "markdown",
   "id": "fee0655f",
   "metadata": {},
   "source": [
    "### Concatenation"
   ]
  },
  {
   "cell_type": "code",
   "execution_count": 25,
   "id": "3ae1921b",
   "metadata": {},
   "outputs": [
    {
     "data": {
      "text/plain": [
       "[1,\n",
       " 12,\n",
       " 15,\n",
       " 16,\n",
       " 26,\n",
       " 'R',\n",
       " 3.4,\n",
       " 5.6,\n",
       " 'Python',\n",
       " 'Piyush',\n",
       " 'Sheela',\n",
       " 'Pooja',\n",
       " 'Rishab']"
      ]
     },
     "execution_count": 25,
     "metadata": {},
     "output_type": "execute_result"
    }
   ],
   "source": [
    "list4=list1+list2\n",
    "list4"
   ]
  },
  {
   "cell_type": "code",
   "execution_count": 27,
   "id": "9b568ea7",
   "metadata": {},
   "outputs": [
    {
     "data": {
      "text/plain": [
       "13"
      ]
     },
     "execution_count": 27,
     "metadata": {},
     "output_type": "execute_result"
    }
   ],
   "source": [
    "len(list4)"
   ]
  },
  {
   "cell_type": "markdown",
   "id": "45d70884",
   "metadata": {},
   "source": [
    "### Iteration"
   ]
  },
  {
   "cell_type": "code",
   "execution_count": 28,
   "id": "6f811e70",
   "metadata": {},
   "outputs": [
    {
     "name": "stdout",
     "output_type": "stream",
     "text": [
      "11\n",
      "12\n",
      "14\n",
      "13\n",
      "15\n"
     ]
    }
   ],
   "source": [
    "list1=[11,12,14,13,15]\n",
    "for i in list1:\n",
    "    print(i)"
   ]
  },
  {
   "cell_type": "code",
   "execution_count": 29,
   "id": "f73b6f1e",
   "metadata": {},
   "outputs": [
    {
     "data": {
      "text/plain": [
       "['Piyush', 'Sheela', 'Pooja', 'Rishab']"
      ]
     },
     "execution_count": 29,
     "metadata": {},
     "output_type": "execute_result"
    }
   ],
   "source": [
    "list2"
   ]
  },
  {
   "cell_type": "code",
   "execution_count": 30,
   "id": "e37137c8",
   "metadata": {},
   "outputs": [
    {
     "name": "stdout",
     "output_type": "stream",
     "text": [
      "Piyush\n",
      "Sheela\n",
      "Pooja\n",
      "Rishab\n"
     ]
    }
   ],
   "source": [
    "list2=['Piyush', 'Sheela', 'Pooja', 'Rishab']\n",
    "for i in list2:\n",
    "    print(i)"
   ]
  },
  {
   "cell_type": "code",
   "execution_count": 31,
   "id": "8736510d",
   "metadata": {},
   "outputs": [
    {
     "data": {
      "text/plain": [
       "True"
      ]
     },
     "execution_count": 31,
     "metadata": {},
     "output_type": "execute_result"
    }
   ],
   "source": [
    "15 in list1"
   ]
  },
  {
   "cell_type": "code",
   "execution_count": 32,
   "id": "5df5fe42",
   "metadata": {},
   "outputs": [
    {
     "data": {
      "text/plain": [
       "False"
      ]
     },
     "execution_count": 32,
     "metadata": {},
     "output_type": "execute_result"
    }
   ],
   "source": [
    "17 in list1"
   ]
  },
  {
   "cell_type": "markdown",
   "id": "1ef7ec4b",
   "metadata": {},
   "source": [
    "#### to know the length of the elements\n"
   ]
  },
  {
   "cell_type": "code",
   "execution_count": 33,
   "id": "1ac2e6f6",
   "metadata": {},
   "outputs": [
    {
     "data": {
      "text/plain": [
       "5"
      ]
     },
     "execution_count": 33,
     "metadata": {},
     "output_type": "execute_result"
    }
   ],
   "source": [
    "len(list1)"
   ]
  },
  {
   "cell_type": "code",
   "execution_count": 34,
   "id": "15339cba",
   "metadata": {},
   "outputs": [
    {
     "data": {
      "text/plain": [
       "15"
      ]
     },
     "execution_count": 34,
     "metadata": {},
     "output_type": "execute_result"
    }
   ],
   "source": [
    "max(list1)"
   ]
  },
  {
   "cell_type": "code",
   "execution_count": 35,
   "id": "461704d2",
   "metadata": {},
   "outputs": [
    {
     "data": {
      "text/plain": [
       "11"
      ]
     },
     "execution_count": 35,
     "metadata": {},
     "output_type": "execute_result"
    }
   ],
   "source": [
    "min(list1)"
   ]
  },
  {
   "cell_type": "code",
   "execution_count": null,
   "id": "1fe5ff86",
   "metadata": {},
   "outputs": [],
   "source": []
  }
 ],
 "metadata": {
  "kernelspec": {
   "display_name": "Python 3 (ipykernel)",
   "language": "python",
   "name": "python3"
  },
  "language_info": {
   "codemirror_mode": {
    "name": "ipython",
    "version": 3
   },
   "file_extension": ".py",
   "mimetype": "text/x-python",
   "name": "python",
   "nbconvert_exporter": "python",
   "pygments_lexer": "ipython3",
   "version": "3.11.5"
  }
 },
 "nbformat": 4,
 "nbformat_minor": 5
}
